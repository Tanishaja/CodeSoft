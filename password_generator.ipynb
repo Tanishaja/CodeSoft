{
 "cells": [
  {
   "cell_type": "code",
   "execution_count": 6,
   "id": "7d2aa7bc",
   "metadata": {},
   "outputs": [
    {
     "name": "stdout",
     "output_type": "stream",
     "text": [
      "enter the length  of your password20\n",
      "here is your password\n",
      "fBob5*3X?qD1wH[kF^A]\n"
     ]
    }
   ],
   "source": [
    "import string\n",
    "import random\n",
    "# it define all the letters in upper case e.g: ABCDE..\n",
    "string1=string.ascii_lowercase\n",
    "# it define all the letter in lower case e.g: abcd..\n",
    "string2=string.ascii_uppercase\n",
    "# it define all digits e.g: 12244556\n",
    "string3=string.digits\n",
    "#it define all special characters e.g: @!|/#$%&.... \n",
    "string4=string.punctuation\n",
    "# it take input from user \n",
    "passwordlength=int(input(\"enter the length  of your password\"))\n",
    "s=[]\n",
    "s.extend(list(string1))\n",
    "s.extend(list(string2))\n",
    "s.extend(list(string3))\n",
    "s.extend(list(string4))\n",
    "print(\"here is your password\")\n",
    "print(\"\".join(random.sample(s,passwordlength)))\n"
   ]
  },
  {
   "cell_type": "code",
   "execution_count": null,
   "id": "303b145f",
   "metadata": {},
   "outputs": [],
   "source": []
  },
  {
   "cell_type": "code",
   "execution_count": null,
   "id": "38599054",
   "metadata": {},
   "outputs": [],
   "source": []
  },
  {
   "cell_type": "code",
   "execution_count": null,
   "id": "a58d9e95",
   "metadata": {},
   "outputs": [],
   "source": []
  },
  {
   "cell_type": "code",
   "execution_count": null,
   "id": "305d4740",
   "metadata": {},
   "outputs": [],
   "source": []
  },
  {
   "cell_type": "code",
   "execution_count": null,
   "id": "588f78c7",
   "metadata": {},
   "outputs": [],
   "source": []
  },
  {
   "cell_type": "code",
   "execution_count": null,
   "id": "d3bdc709",
   "metadata": {},
   "outputs": [],
   "source": []
  },
  {
   "cell_type": "code",
   "execution_count": null,
   "id": "715d5d73",
   "metadata": {},
   "outputs": [],
   "source": []
  },
  {
   "cell_type": "code",
   "execution_count": null,
   "id": "9886b21f",
   "metadata": {},
   "outputs": [],
   "source": []
  },
  {
   "cell_type": "code",
   "execution_count": null,
   "id": "c8f5042c",
   "metadata": {},
   "outputs": [],
   "source": []
  },
  {
   "cell_type": "code",
   "execution_count": null,
   "id": "953c3b0a",
   "metadata": {},
   "outputs": [],
   "source": []
  }
 ],
 "metadata": {
  "kernelspec": {
   "display_name": "Python 3 (ipykernel)",
   "language": "python",
   "name": "python3"
  },
  "language_info": {
   "codemirror_mode": {
    "name": "ipython",
    "version": 3
   },
   "file_extension": ".py",
   "mimetype": "text/x-python",
   "name": "python",
   "nbconvert_exporter": "python",
   "pygments_lexer": "ipython3",
   "version": "3.10.9"
  }
 },
 "nbformat": 4,
 "nbformat_minor": 5
}
